{
 "cells": [
  {
   "cell_type": "code",
   "execution_count": null,
   "metadata": {},
   "outputs": [],
   "source": [
    "# ===== CONSTANTS & CONFIGURATION =====\n",
    "class Config:\n",
    "    # Model paths\n",
    "    CUSTOM_WEIGHTS = \"/kaggle/input/mask-gloves-preson-weights/custom-weights.pt\"\n",
    "    CAP_WEIGHTS = \"/kaggle/input/capsweights/my_weights.pt\"\n",
    "    LOGO_WEIGHTS = \"/kaggle/input/logoweights/logo.pt\"\n",
    "    \n",
    "    # Video paths\n",
    "    VIDEO_INPUT = \"/kaggle/input/test-data-inside/longtry-inside.mp4\"\n",
    "    VIDEO_OUTPUT = \"/kaggle/working/output_video3.mp4\"\n",
    "    \n",
    "    # Detection thresholds\n",
    "    PERSON_CONF = 0.4\n",
    "    LOGO_CONF = 0.5\n",
    "    CAP_CONF = 0.4\n",
    "    IOU_THRESHOLD = 0.5\n",
    "    \n",
    "    # Violation settings\n",
    "    VIOLATION_DIR = \"violations7\"\n",
    "    VIOLATION_DURATION = 2  # seconds\n",
    "    \n",
    "    # Google Drive\n",
    "    SERVICE_ACCOUNT_FILE = '/kaggle/input/upload/wide-planet-449115-b2-c6af973cadb6.json'\n",
    "    DRIVE_SCOPES = ['https://www.googleapis.com/auth/drive']\n",
    "    PROCESSING_DATE = \"03/31/2025\"\n",
    "\n",
    "# Initialize config\n",
    "config = Config()"
   ]
  },
  {
   "cell_type": "code",
   "execution_count": null,
   "metadata": {},
   "outputs": [],
   "source": [
    "custom_model = YOLO(config.CUSTOM_WEIGHTS)  # Includes person, mask, gloves\n",
    "cap_model = YOLO(cap_weights_path)\n",
    "logo_model = YOLO(logo_weights_path)"
   ]
  }
 ],
 "metadata": {
  "kernelspec": {
   "display_name": "python311-env",
   "language": "python",
   "name": "python3"
  },
  "language_info": {
   "name": "python",
   "version": "3.11.10"
  }
 },
 "nbformat": 4,
 "nbformat_minor": 2
}
