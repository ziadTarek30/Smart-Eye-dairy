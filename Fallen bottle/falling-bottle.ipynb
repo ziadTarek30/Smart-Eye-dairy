{
 "cells": [
  {
   "cell_type": "code",
   "execution_count": 1,
   "id": "c79c1c34",
   "metadata": {
    "_cell_guid": "b1076dfc-b9ad-4769-8c92-a6c4dae69d19",
    "_uuid": "8f2839f25d086af736a60e9eeb907d3b93b6e0e5",
    "execution": {
     "iopub.execute_input": "2025-04-01T18:33:59.149245Z",
     "iopub.status.busy": "2025-04-01T18:33:59.148718Z",
     "iopub.status.idle": "2025-04-01T18:34:06.246908Z",
     "shell.execute_reply": "2025-04-01T18:34:06.245460Z"
    },
    "papermill": {
     "duration": 7.106534,
     "end_time": "2025-04-01T18:34:06.248993",
     "exception": false,
     "start_time": "2025-04-01T18:33:59.142459",
     "status": "completed"
    },
    "tags": []
   },
   "outputs": [
    {
     "name": "stdout",
     "output_type": "stream",
     "text": [
      "Collecting ultralytics\r\n",
      "  Downloading ultralytics-8.3.99-py3-none-any.whl.metadata (37 kB)\r\n",
      "Requirement already satisfied: numpy<=2.1.1,>=1.23.0 in /usr/local/lib/python3.10/dist-packages (from ultralytics) (1.26.4)\r\n",
      "Requirement already satisfied: matplotlib>=3.3.0 in /usr/local/lib/python3.10/dist-packages (from ultralytics) (3.7.5)\r\n",
      "Requirement already satisfied: opencv-python>=4.6.0 in /usr/local/lib/python3.10/dist-packages (from ultralytics) (4.10.0.84)\r\n",
      "Requirement already satisfied: pillow>=7.1.2 in /usr/local/lib/python3.10/dist-packages (from ultralytics) (11.0.0)\r\n",
      "Requirement already satisfied: pyyaml>=5.3.1 in /usr/local/lib/python3.10/dist-packages (from ultralytics) (6.0.2)\r\n",
      "Requirement already satisfied: requests>=2.23.0 in /usr/local/lib/python3.10/dist-packages (from ultralytics) (2.32.3)\r\n",
      "Requirement already satisfied: scipy>=1.4.1 in /usr/local/lib/python3.10/dist-packages (from ultralytics) (1.13.1)\r\n",
      "Requirement already satisfied: torch>=1.8.0 in /usr/local/lib/python3.10/dist-packages (from ultralytics) (2.5.1+cu121)\r\n",
      "Requirement already satisfied: torchvision>=0.9.0 in /usr/local/lib/python3.10/dist-packages (from ultralytics) (0.20.1+cu121)\r\n",
      "Requirement already satisfied: tqdm>=4.64.0 in /usr/local/lib/python3.10/dist-packages (from ultralytics) (4.67.1)\r\n",
      "Requirement already satisfied: psutil in /usr/local/lib/python3.10/dist-packages (from ultralytics) (5.9.5)\r\n",
      "Requirement already satisfied: py-cpuinfo in /usr/local/lib/python3.10/dist-packages (from ultralytics) (9.0.0)\r\n",
      "Requirement already satisfied: pandas>=1.1.4 in /usr/local/lib/python3.10/dist-packages (from ultralytics) (2.2.3)\r\n",
      "Requirement already satisfied: seaborn>=0.11.0 in /usr/local/lib/python3.10/dist-packages (from ultralytics) (0.12.2)\r\n",
      "Collecting ultralytics-thop>=2.0.0 (from ultralytics)\r\n",
      "  Downloading ultralytics_thop-2.0.14-py3-none-any.whl.metadata (9.4 kB)\r\n",
      "Requirement already satisfied: contourpy>=1.0.1 in /usr/local/lib/python3.10/dist-packages (from matplotlib>=3.3.0->ultralytics) (1.3.1)\r\n",
      "Requirement already satisfied: cycler>=0.10 in /usr/local/lib/python3.10/dist-packages (from matplotlib>=3.3.0->ultralytics) (0.12.1)\r\n",
      "Requirement already satisfied: fonttools>=4.22.0 in /usr/local/lib/python3.10/dist-packages (from matplotlib>=3.3.0->ultralytics) (4.55.3)\r\n",
      "Requirement already satisfied: kiwisolver>=1.0.1 in /usr/local/lib/python3.10/dist-packages (from matplotlib>=3.3.0->ultralytics) (1.4.7)\r\n",
      "Requirement already satisfied: packaging>=20.0 in /usr/local/lib/python3.10/dist-packages (from matplotlib>=3.3.0->ultralytics) (24.2)\r\n",
      "Requirement already satisfied: pyparsing>=2.3.1 in /usr/local/lib/python3.10/dist-packages (from matplotlib>=3.3.0->ultralytics) (3.2.0)\r\n",
      "Requirement already satisfied: python-dateutil>=2.7 in /usr/local/lib/python3.10/dist-packages (from matplotlib>=3.3.0->ultralytics) (2.9.0.post0)\r\n",
      "Requirement already satisfied: mkl_fft in /usr/local/lib/python3.10/dist-packages (from numpy<=2.1.1,>=1.23.0->ultralytics) (1.3.8)\r\n",
      "Requirement already satisfied: mkl_random in /usr/local/lib/python3.10/dist-packages (from numpy<=2.1.1,>=1.23.0->ultralytics) (1.2.4)\r\n",
      "Requirement already satisfied: mkl_umath in /usr/local/lib/python3.10/dist-packages (from numpy<=2.1.1,>=1.23.0->ultralytics) (0.1.1)\r\n",
      "Requirement already satisfied: mkl in /usr/local/lib/python3.10/dist-packages (from numpy<=2.1.1,>=1.23.0->ultralytics) (2025.0.1)\r\n",
      "Requirement already satisfied: tbb4py in /usr/local/lib/python3.10/dist-packages (from numpy<=2.1.1,>=1.23.0->ultralytics) (2022.0.0)\r\n",
      "Requirement already satisfied: mkl-service in /usr/local/lib/python3.10/dist-packages (from numpy<=2.1.1,>=1.23.0->ultralytics) (2.4.1)\r\n",
      "Requirement already satisfied: pytz>=2020.1 in /usr/local/lib/python3.10/dist-packages (from pandas>=1.1.4->ultralytics) (2025.1)\r\n",
      "Requirement already satisfied: tzdata>=2022.7 in /usr/local/lib/python3.10/dist-packages (from pandas>=1.1.4->ultralytics) (2025.1)\r\n",
      "Requirement already satisfied: charset-normalizer<4,>=2 in /usr/local/lib/python3.10/dist-packages (from requests>=2.23.0->ultralytics) (3.4.1)\r\n",
      "Requirement already satisfied: idna<4,>=2.5 in /usr/local/lib/python3.10/dist-packages (from requests>=2.23.0->ultralytics) (3.10)\r\n",
      "Requirement already satisfied: urllib3<3,>=1.21.1 in /usr/local/lib/python3.10/dist-packages (from requests>=2.23.0->ultralytics) (2.3.0)\r\n",
      "Requirement already satisfied: certifi>=2017.4.17 in /usr/local/lib/python3.10/dist-packages (from requests>=2.23.0->ultralytics) (2025.1.31)\r\n",
      "Requirement already satisfied: filelock in /usr/local/lib/python3.10/dist-packages (from torch>=1.8.0->ultralytics) (3.17.0)\r\n",
      "Requirement already satisfied: typing-extensions>=4.8.0 in /usr/local/lib/python3.10/dist-packages (from torch>=1.8.0->ultralytics) (4.12.2)\r\n",
      "Requirement already satisfied: networkx in /usr/local/lib/python3.10/dist-packages (from torch>=1.8.0->ultralytics) (3.4.2)\r\n",
      "Requirement already satisfied: jinja2 in /usr/local/lib/python3.10/dist-packages (from torch>=1.8.0->ultralytics) (3.1.4)\r\n",
      "Requirement already satisfied: fsspec in /usr/local/lib/python3.10/dist-packages (from torch>=1.8.0->ultralytics) (2024.12.0)\r\n",
      "Requirement already satisfied: sympy==1.13.1 in /usr/local/lib/python3.10/dist-packages (from torch>=1.8.0->ultralytics) (1.13.1)\r\n",
      "Requirement already satisfied: mpmath<1.4,>=1.1.0 in /usr/local/lib/python3.10/dist-packages (from sympy==1.13.1->torch>=1.8.0->ultralytics) (1.3.0)\r\n",
      "Requirement already satisfied: six>=1.5 in /usr/local/lib/python3.10/dist-packages (from python-dateutil>=2.7->matplotlib>=3.3.0->ultralytics) (1.17.0)\r\n",
      "Requirement already satisfied: MarkupSafe>=2.0 in /usr/local/lib/python3.10/dist-packages (from jinja2->torch>=1.8.0->ultralytics) (3.0.2)\r\n",
      "Requirement already satisfied: intel-openmp>=2024 in /usr/local/lib/python3.10/dist-packages (from mkl->numpy<=2.1.1,>=1.23.0->ultralytics) (2024.2.0)\r\n",
      "Requirement already satisfied: tbb==2022.* in /usr/local/lib/python3.10/dist-packages (from mkl->numpy<=2.1.1,>=1.23.0->ultralytics) (2022.0.0)\r\n",
      "Requirement already satisfied: tcmlib==1.* in /usr/local/lib/python3.10/dist-packages (from tbb==2022.*->mkl->numpy<=2.1.1,>=1.23.0->ultralytics) (1.2.0)\r\n",
      "Requirement already satisfied: intel-cmplr-lib-rt in /usr/local/lib/python3.10/dist-packages (from mkl_umath->numpy<=2.1.1,>=1.23.0->ultralytics) (2024.2.0)\r\n",
      "Requirement already satisfied: intel-cmplr-lib-ur==2024.2.0 in /usr/local/lib/python3.10/dist-packages (from intel-openmp>=2024->mkl->numpy<=2.1.1,>=1.23.0->ultralytics) (2024.2.0)\r\n",
      "Downloading ultralytics-8.3.99-py3-none-any.whl (976 kB)\r\n",
      "\u001b[2K   \u001b[90m━━━━━━━━━━━━━━━━━━━━━━━━━━━━━━━━━━━━━━━━\u001b[0m \u001b[32m976.9/976.9 kB\u001b[0m \u001b[31m16.8 MB/s\u001b[0m eta \u001b[36m0:00:00\u001b[0m\r\n",
      "\u001b[?25hDownloading ultralytics_thop-2.0.14-py3-none-any.whl (26 kB)\r\n",
      "Installing collected packages: ultralytics-thop, ultralytics\r\n",
      "Successfully installed ultralytics-8.3.99 ultralytics-thop-2.0.14\r\n"
     ]
    }
   ],
   "source": [
    "!pip install ultralytics"
   ]
  },
  {
   "cell_type": "code",
   "execution_count": 2,
   "id": "0fca680c",
   "metadata": {
    "execution": {
     "iopub.execute_input": "2025-04-01T18:34:06.261826Z",
     "iopub.status.busy": "2025-04-01T18:34:06.261492Z",
     "iopub.status.idle": "2025-04-01T18:34:30.096669Z",
     "shell.execute_reply": "2025-04-01T18:34:30.095107Z"
    },
    "papermill": {
     "duration": 23.843804,
     "end_time": "2025-04-01T18:34:30.098767",
     "exception": false,
     "start_time": "2025-04-01T18:34:06.254963",
     "status": "completed"
    },
    "tags": []
   },
   "outputs": [
    {
     "name": "stdout",
     "output_type": "stream",
     "text": [
      "Requirement already satisfied: pip in /usr/local/lib/python3.10/dist-packages (24.1.2)\r\n",
      "Collecting pip\r\n",
      "  Downloading pip-25.0.1-py3-none-any.whl.metadata (3.7 kB)\r\n",
      "Requirement already satisfied: setuptools in /usr/local/lib/python3.10/dist-packages (75.1.0)\r\n",
      "Collecting setuptools\r\n",
      "  Downloading setuptools-78.1.0-py3-none-any.whl.metadata (6.6 kB)\r\n",
      "Downloading pip-25.0.1-py3-none-any.whl (1.8 MB)\r\n",
      "\u001b[2K   \u001b[90m━━━━━━━━━━━━━━━━━━━━━━━━━━━━━━━━━━━━━━━━\u001b[0m \u001b[32m1.8/1.8 MB\u001b[0m \u001b[31m20.3 MB/s\u001b[0m eta \u001b[36m0:00:00\u001b[0m\r\n",
      "\u001b[?25hDownloading setuptools-78.1.0-py3-none-any.whl (1.3 MB)\r\n",
      "\u001b[2K   \u001b[90m━━━━━━━━━━━━━━━━━━━━━━━━━━━━━━━━━━━━━━━━\u001b[0m \u001b[32m1.3/1.3 MB\u001b[0m \u001b[31m44.7 MB/s\u001b[0m eta \u001b[36m0:00:00\u001b[0m\r\n",
      "\u001b[?25hInstalling collected packages: setuptools, pip\r\n",
      "  Attempting uninstall: setuptools\r\n",
      "    Found existing installation: setuptools 75.1.0\r\n",
      "    Uninstalling setuptools-75.1.0:\r\n",
      "      Successfully uninstalled setuptools-75.1.0\r\n",
      "  Attempting uninstall: pip\r\n",
      "    Found existing installation: pip 24.1.2\r\n",
      "    Uninstalling pip-24.1.2:\r\n",
      "      Successfully uninstalled pip-24.1.2\r\n",
      "\u001b[31mERROR: pip's dependency resolver does not currently take into account all the packages that are installed. This behaviour is the source of the following dependency conflicts.\r\n",
      "pandas-gbq 0.25.0 requires google-api-core<3.0.0dev,>=2.10.2, but you have google-api-core 1.34.1 which is incompatible.\r\n",
      "tensorflow-decision-forests 1.10.0 requires tensorflow==2.17.0, but you have tensorflow 2.17.1 which is incompatible.\u001b[0m\u001b[31m\r\n",
      "\u001b[0mSuccessfully installed pip-25.0.1 setuptools-78.1.0\r\n"
     ]
    }
   ],
   "source": [
    "!pip install --upgrade pip setuptools"
   ]
  },
  {
   "cell_type": "code",
   "execution_count": 3,
   "id": "80484380",
   "metadata": {
    "execution": {
     "iopub.execute_input": "2025-04-01T18:34:30.112654Z",
     "iopub.status.busy": "2025-04-01T18:34:30.112278Z",
     "iopub.status.idle": "2025-04-01T18:34:36.872249Z",
     "shell.execute_reply": "2025-04-01T18:34:36.870832Z"
    },
    "papermill": {
     "duration": 6.769139,
     "end_time": "2025-04-01T18:34:36.874218",
     "exception": false,
     "start_time": "2025-04-01T18:34:30.105079",
     "status": "completed"
    },
    "tags": []
   },
   "outputs": [
    {
     "name": "stdout",
     "output_type": "stream",
     "text": [
      "\u001b[2K   \u001b[90m━━━━━━━━━━━━━━━━━━━━━━━━━━━━━━━━━━━━━━━━\u001b[0m \u001b[32m13.2/13.2 MB\u001b[0m \u001b[31m91.6 MB/s\u001b[0m eta \u001b[36m0:00:00\u001b[0m\r\n",
      "\u001b[?25h\u001b[31mERROR: pip's dependency resolver does not currently take into account all the packages that are installed. This behaviour is the source of the following dependency conflicts.\r\n",
      "pydrive2 1.21.3 requires cryptography<44, but you have cryptography 44.0.1 which is incompatible.\r\n",
      "pydrive2 1.21.3 requires pyOpenSSL<=24.2.1,>=19.1.0, but you have pyopenssl 25.0.0 which is incompatible.\u001b[0m\u001b[31m\r\n",
      "\u001b[0m"
     ]
    }
   ],
   "source": [
    "!pip install -q --upgrade google-api-python-client google-auth-httplib2 google-auth-oauthlib"
   ]
  },
  {
   "cell_type": "code",
   "execution_count": 4,
   "id": "d94acfe5",
   "metadata": {
    "execution": {
     "iopub.execute_input": "2025-04-01T18:34:36.888462Z",
     "iopub.status.busy": "2025-04-01T18:34:36.888061Z",
     "iopub.status.idle": "2025-04-01T18:34:46.475779Z",
     "shell.execute_reply": "2025-04-01T18:34:46.474611Z"
    },
    "papermill": {
     "duration": 9.597019,
     "end_time": "2025-04-01T18:34:46.477720",
     "exception": false,
     "start_time": "2025-04-01T18:34:36.880701",
     "status": "completed"
    },
    "tags": []
   },
   "outputs": [
    {
     "name": "stdout",
     "output_type": "stream",
     "text": [
      "Creating new Ultralytics Settings v0.0.6 file ✅ \n",
      "View Ultralytics Settings with 'yolo settings' or at '/root/.config/Ultralytics/settings.json'\n",
      "Update Settings with 'yolo settings key=value', i.e. 'yolo settings runs_dir=path/to/dir'. For help see https://docs.ultralytics.com/quickstart/#ultralytics-settings.\n"
     ]
    }
   ],
   "source": [
    "import cv2\n",
    "import os\n",
    "import torch\n",
    "import numpy as np\n",
    "from torchvision import transforms\n",
    "from ultralytics import YOLO\n",
    "from collections import defaultdict"
   ]
  },
  {
   "cell_type": "code",
   "execution_count": 5,
   "id": "58918d5f",
   "metadata": {
    "execution": {
     "iopub.execute_input": "2025-04-01T18:34:46.492254Z",
     "iopub.status.busy": "2025-04-01T18:34:46.491717Z",
     "iopub.status.idle": "2025-04-01T18:34:47.076467Z",
     "shell.execute_reply": "2025-04-01T18:34:47.075279Z"
    },
    "papermill": {
     "duration": 0.594081,
     "end_time": "2025-04-01T18:34:47.078540",
     "exception": false,
     "start_time": "2025-04-01T18:34:46.484459",
     "status": "completed"
    },
    "tags": []
   },
   "outputs": [],
   "source": [
    "from google.oauth2 import service_account\n",
    "from googleapiclient.discovery import build\n",
    "from googleapiclient.http import MediaFileUpload\n",
    "from googleapiclient.http import MediaFileUpload"
   ]
  },
  {
   "cell_type": "code",
   "execution_count": 6,
   "id": "8ae5f200",
   "metadata": {
    "execution": {
     "iopub.execute_input": "2025-04-01T18:34:47.093039Z",
     "iopub.status.busy": "2025-04-01T18:34:47.092513Z",
     "iopub.status.idle": "2025-04-01T18:34:56.675288Z",
     "shell.execute_reply": "2025-04-01T18:34:56.673940Z"
    },
    "papermill": {
     "duration": 9.591666,
     "end_time": "2025-04-01T18:34:56.676947",
     "exception": false,
     "start_time": "2025-04-01T18:34:47.085281",
     "status": "completed"
    },
    "tags": []
   },
   "outputs": [
    {
     "name": "stdout",
     "output_type": "stream",
     "text": [
      "Collecting roboflow\r\n",
      "  Downloading roboflow-1.1.58-py3-none-any.whl.metadata (9.7 kB)\r\n",
      "Requirement already satisfied: certifi in /usr/local/lib/python3.10/dist-packages (from roboflow) (2025.1.31)\r\n",
      "Collecting idna==3.7 (from roboflow)\r\n",
      "  Downloading idna-3.7-py3-none-any.whl.metadata (9.9 kB)\r\n",
      "Requirement already satisfied: cycler in /usr/local/lib/python3.10/dist-packages (from roboflow) (0.12.1)\r\n",
      "Requirement already satisfied: kiwisolver>=1.3.1 in /usr/local/lib/python3.10/dist-packages (from roboflow) (1.4.7)\r\n",
      "Requirement already satisfied: matplotlib in /usr/local/lib/python3.10/dist-packages (from roboflow) (3.7.5)\r\n",
      "Requirement already satisfied: numpy>=1.18.5 in /usr/local/lib/python3.10/dist-packages (from roboflow) (1.26.4)\r\n",
      "Requirement already satisfied: opencv-python-headless==4.10.0.84 in /usr/local/lib/python3.10/dist-packages (from roboflow) (4.10.0.84)\r\n",
      "Requirement already satisfied: Pillow>=7.1.2 in /usr/local/lib/python3.10/dist-packages (from roboflow) (11.0.0)\r\n",
      "Collecting pillow-heif>=0.18.0 (from roboflow)\r\n",
      "  Downloading pillow_heif-0.22.0-cp310-cp310-manylinux_2_17_x86_64.manylinux2014_x86_64.whl.metadata (9.6 kB)\r\n",
      "Requirement already satisfied: python-dateutil in /usr/local/lib/python3.10/dist-packages (from roboflow) (2.9.0.post0)\r\n",
      "Collecting python-dotenv (from roboflow)\r\n",
      "  Downloading python_dotenv-1.1.0-py3-none-any.whl.metadata (24 kB)\r\n",
      "Requirement already satisfied: requests in /usr/local/lib/python3.10/dist-packages (from roboflow) (2.32.3)\r\n",
      "Requirement already satisfied: six in /usr/local/lib/python3.10/dist-packages (from roboflow) (1.17.0)\r\n",
      "Requirement already satisfied: urllib3>=1.26.6 in /usr/local/lib/python3.10/dist-packages (from roboflow) (2.3.0)\r\n",
      "Requirement already satisfied: tqdm>=4.41.0 in /usr/local/lib/python3.10/dist-packages (from roboflow) (4.67.1)\r\n",
      "Requirement already satisfied: PyYAML>=5.3.1 in /usr/local/lib/python3.10/dist-packages (from roboflow) (6.0.2)\r\n",
      "Requirement already satisfied: requests-toolbelt in /usr/local/lib/python3.10/dist-packages (from roboflow) (1.0.0)\r\n",
      "Collecting filetype (from roboflow)\r\n",
      "  Downloading filetype-1.2.0-py2.py3-none-any.whl.metadata (6.5 kB)\r\n",
      "Requirement already satisfied: mkl_fft in /usr/local/lib/python3.10/dist-packages (from numpy>=1.18.5->roboflow) (1.3.8)\r\n",
      "Requirement already satisfied: mkl_random in /usr/local/lib/python3.10/dist-packages (from numpy>=1.18.5->roboflow) (1.2.4)\r\n",
      "Requirement already satisfied: mkl_umath in /usr/local/lib/python3.10/dist-packages (from numpy>=1.18.5->roboflow) (0.1.1)\r\n",
      "Requirement already satisfied: mkl in /usr/local/lib/python3.10/dist-packages (from numpy>=1.18.5->roboflow) (2025.0.1)\r\n",
      "Requirement already satisfied: tbb4py in /usr/local/lib/python3.10/dist-packages (from numpy>=1.18.5->roboflow) (2022.0.0)\r\n",
      "Requirement already satisfied: mkl-service in /usr/local/lib/python3.10/dist-packages (from numpy>=1.18.5->roboflow) (2.4.1)\r\n",
      "Requirement already satisfied: contourpy>=1.0.1 in /usr/local/lib/python3.10/dist-packages (from matplotlib->roboflow) (1.3.1)\r\n",
      "Requirement already satisfied: fonttools>=4.22.0 in /usr/local/lib/python3.10/dist-packages (from matplotlib->roboflow) (4.55.3)\r\n",
      "Requirement already satisfied: packaging>=20.0 in /usr/local/lib/python3.10/dist-packages (from matplotlib->roboflow) (24.2)\r\n",
      "Requirement already satisfied: pyparsing>=2.3.1 in /usr/local/lib/python3.10/dist-packages (from matplotlib->roboflow) (3.2.0)\r\n",
      "Requirement already satisfied: charset-normalizer<4,>=2 in /usr/local/lib/python3.10/dist-packages (from requests->roboflow) (3.4.1)\r\n",
      "Requirement already satisfied: intel-openmp>=2024 in /usr/local/lib/python3.10/dist-packages (from mkl->numpy>=1.18.5->roboflow) (2024.2.0)\r\n",
      "Requirement already satisfied: tbb==2022.* in /usr/local/lib/python3.10/dist-packages (from mkl->numpy>=1.18.5->roboflow) (2022.0.0)\r\n",
      "Requirement already satisfied: tcmlib==1.* in /usr/local/lib/python3.10/dist-packages (from tbb==2022.*->mkl->numpy>=1.18.5->roboflow) (1.2.0)\r\n",
      "Requirement already satisfied: intel-cmplr-lib-rt in /usr/local/lib/python3.10/dist-packages (from mkl_umath->numpy>=1.18.5->roboflow) (2024.2.0)\r\n",
      "Requirement already satisfied: intel-cmplr-lib-ur==2024.2.0 in /usr/local/lib/python3.10/dist-packages (from intel-openmp>=2024->mkl->numpy>=1.18.5->roboflow) (2024.2.0)\r\n",
      "Downloading roboflow-1.1.58-py3-none-any.whl (84 kB)\r\n",
      "Downloading idna-3.7-py3-none-any.whl (66 kB)\r\n",
      "Downloading pillow_heif-0.22.0-cp310-cp310-manylinux_2_17_x86_64.manylinux2014_x86_64.whl (7.8 MB)\r\n",
      "\u001b[2K   \u001b[90m━━━━━━━━━━━━━━━━━━━━━━━━━━━━━━━━━━━━━━━━\u001b[0m \u001b[32m7.8/7.8 MB\u001b[0m \u001b[31m72.4 MB/s\u001b[0m eta \u001b[36m0:00:00\u001b[0m\r\n",
      "\u001b[?25hDownloading filetype-1.2.0-py2.py3-none-any.whl (19 kB)\r\n",
      "Downloading python_dotenv-1.1.0-py3-none-any.whl (20 kB)\r\n",
      "Installing collected packages: filetype, python-dotenv, pillow-heif, idna, roboflow\r\n",
      "  Attempting uninstall: idna\r\n",
      "    Found existing installation: idna 3.10\r\n",
      "    Uninstalling idna-3.10:\r\n",
      "      Successfully uninstalled idna-3.10\r\n",
      "\u001b[31mERROR: pip's dependency resolver does not currently take into account all the packages that are installed. This behaviour is the source of the following dependency conflicts.\r\n",
      "tensorflow-decision-forests 1.10.0 requires tensorflow==2.17.0, but you have tensorflow 2.17.1 which is incompatible.\u001b[0m\u001b[31m\r\n",
      "\u001b[0mSuccessfully installed filetype-1.2.0 idna-3.7 pillow-heif-0.22.0 python-dotenv-1.1.0 roboflow-1.1.58\r\n",
      "loading Roboflow workspace...\n",
      "loading Roboflow project...\n"
     ]
    },
    {
     "name": "stderr",
     "output_type": "stream",
     "text": [
      "Downloading Dataset Version Zip in falling-bottles3-4 to yolov8:: 100%|██████████| 1771/1771 [00:00<00:00, 8387.52it/s]"
     ]
    },
    {
     "name": "stdout",
     "output_type": "stream",
     "text": [
      "\n"
     ]
    },
    {
     "name": "stderr",
     "output_type": "stream",
     "text": [
      "\n",
      "Extracting Dataset Version Zip to falling-bottles3-4 in yolov8:: 100%|██████████| 72/72 [00:00<00:00, 6261.06it/s]\n"
     ]
    }
   ],
   "source": [
    "!pip install roboflow\n",
    "\n",
    "from roboflow import Roboflow\n",
    "rf = Roboflow(api_key=\"79tt3PZGEzgKIOteiAXa\")\n",
    "project = rf.workspace(\"safybottles\").project(\"falling-bottles3\")\n",
    "version = project.version(4)\n",
    "dataset = version.download(\"yolov8\")"
   ]
  },
  {
   "cell_type": "code",
   "execution_count": 7,
   "id": "6011c490",
   "metadata": {
    "execution": {
     "iopub.execute_input": "2025-04-01T18:34:56.694530Z",
     "iopub.status.busy": "2025-04-01T18:34:56.694180Z",
     "iopub.status.idle": "2025-04-01T18:34:56.697971Z",
     "shell.execute_reply": "2025-04-01T18:34:56.697063Z"
    },
    "papermill": {
     "duration": 0.014336,
     "end_time": "2025-04-01T18:34:56.699554",
     "exception": false,
     "start_time": "2025-04-01T18:34:56.685218",
     "status": "completed"
    },
    "tags": []
   },
   "outputs": [],
   "source": [
    "#model = YOLO(\"yolov8m.pt\")\n",
    "#data_yaml_path = '/kaggle/working/falling-bottles3-4/data.yaml'\n",
    "#results = model.train(\n",
    "    #data=data_yaml_path,  # Adjust this path\n",
    "    #epochs=35,  # Number of training epochs\n",
    "    #batch=10,  # Batch size\n",
    "    #imgsz=640,  # Image size\n",
    "    #device=\"cuda\"  # Use GPU if available\n",
    "#)"
   ]
  },
  {
   "cell_type": "code",
   "execution_count": 8,
   "id": "4559e1f2",
   "metadata": {
    "execution": {
     "iopub.execute_input": "2025-04-01T18:34:56.716677Z",
     "iopub.status.busy": "2025-04-01T18:34:56.716351Z",
     "iopub.status.idle": "2025-04-01T18:35:08.116075Z",
     "shell.execute_reply": "2025-04-01T18:35:08.114891Z"
    },
    "papermill": {
     "duration": 11.410385,
     "end_time": "2025-04-01T18:35:08.117895",
     "exception": false,
     "start_time": "2025-04-01T18:34:56.707510",
     "status": "completed"
    },
    "tags": []
   },
   "outputs": [
    {
     "name": "stdout",
     "output_type": "stream",
     "text": [
      "\n",
      "🔍 Evaluating model on validation/test set...\n",
      "Ultralytics 8.3.99 🚀 Python-3.10.12 torch-2.5.1+cu121 CPU (Intel Xeon 2.20GHz)\n",
      "Model summary (fused): 92 layers, 25,840,339 parameters, 0 gradients, 78.7 GFLOPs\n",
      "Downloading https://ultralytics.com/assets/Arial.ttf to '/root/.config/Ultralytics/Arial.ttf'...\n"
     ]
    },
    {
     "name": "stderr",
     "output_type": "stream",
     "text": [
      "100%|██████████| 755k/755k [00:00<00:00, 18.0MB/s]\n",
      "\u001b[34m\u001b[1mval: \u001b[0mScanning /kaggle/working/falling-bottles3-4/valid/labels... 2 images, 0 backgrounds, 0 corrupt: 100%|██████████| 2/2 [00:00<00:00, 47.62it/s]"
     ]
    },
    {
     "name": "stdout",
     "output_type": "stream",
     "text": [
      "\u001b[34m\u001b[1mval: \u001b[0mNew cache created: /kaggle/working/falling-bottles3-4/valid/labels.cache\n"
     ]
    },
    {
     "name": "stderr",
     "output_type": "stream",
     "text": [
      "\n",
      "                 Class     Images  Instances      Box(P          R      mAP50  mAP50-95): 100%|██████████| 1/1 [00:02<00:00,  2.43s/it]\n"
     ]
    },
    {
     "name": "stdout",
     "output_type": "stream",
     "text": [
      "                   all          2          2      0.971          1      0.995      0.408\n"
     ]
    },
    {
     "name": "stderr",
     "output_type": "stream",
     "text": [
      "invalid value encountered in less\n",
      "invalid value encountered in less\n"
     ]
    },
    {
     "name": "stdout",
     "output_type": "stream",
     "text": [
      "Speed: 7.5ms preprocess, 1165.4ms inference, 0.0ms loss, 8.6ms postprocess per image\n",
      "Results saved to \u001b[1mruns/detect/val\u001b[0m\n",
      "\n",
      "📊 Evaluation Metrics:\n",
      "Precision: 0.9709\n",
      "Recall: 1.0000\n",
      "mAP@0.5: 0.9950\n",
      "mAP@0.5:0.95: 0.4080\n"
     ]
    }
   ],
   "source": [
    "\n",
    "# Load the model\n",
    "model = YOLO(\"/kaggle/input/custom-weights/trained-model.pt\")\n",
    "\n",
    "# Path to data.yaml\n",
    "data_yaml_path = '/kaggle/working/falling-bottles3-4/data.yaml'\n",
    "\n",
    "# Evaluate\n",
    "print(\"\\n🔍 Evaluating model on validation/test set...\")\n",
    "metrics = model.val(data=data_yaml_path)\n",
    "\n",
    "# Print metrics\n",
    "print(\"\\n📊 Evaluation Metrics:\")\n",
    "precision = metrics.box.p if isinstance(metrics.box.p, float) else float(metrics.box.p[0])\n",
    "recall = metrics.box.r if isinstance(metrics.box.r, float) else float(metrics.box.r[0])\n",
    "\n",
    "print(f\"Precision: {precision:.4f}\")\n",
    "print(f\"Recall: {recall:.4f}\")\n",
    "print(f\"mAP@0.5: {metrics.box.map50:.4f}\")\n",
    "print(f\"mAP@0.5:0.95: {metrics.box.map:.4f}\")"
   ]
  },
  {
   "cell_type": "code",
   "execution_count": 9,
   "id": "1cffc95e",
   "metadata": {
    "execution": {
     "iopub.execute_input": "2025-04-01T18:35:08.140995Z",
     "iopub.status.busy": "2025-04-01T18:35:08.140370Z",
     "iopub.status.idle": "2025-04-01T18:35:08.144971Z",
     "shell.execute_reply": "2025-04-01T18:35:08.143816Z"
    },
    "papermill": {
     "duration": 0.017212,
     "end_time": "2025-04-01T18:35:08.147024",
     "exception": false,
     "start_time": "2025-04-01T18:35:08.129812",
     "status": "completed"
    },
    "tags": []
   },
   "outputs": [],
   "source": [
    "fall_weights_path = \"/kaggle/input/custom-weights/trained-model.pt\""
   ]
  },
  {
   "cell_type": "code",
   "execution_count": 10,
   "id": "191c5673",
   "metadata": {
    "execution": {
     "iopub.execute_input": "2025-04-01T18:35:08.177084Z",
     "iopub.status.busy": "2025-04-01T18:35:08.176682Z",
     "iopub.status.idle": "2025-04-01T18:35:08.286696Z",
     "shell.execute_reply": "2025-04-01T18:35:08.285751Z"
    },
    "papermill": {
     "duration": 0.12295,
     "end_time": "2025-04-01T18:35:08.288562",
     "exception": false,
     "start_time": "2025-04-01T18:35:08.165612",
     "status": "completed"
    },
    "tags": []
   },
   "outputs": [],
   "source": [
    "custom_model = YOLO(fall_weights_path)"
   ]
  },
  {
   "cell_type": "code",
   "execution_count": 11,
   "id": "722abe1d",
   "metadata": {
    "execution": {
     "iopub.execute_input": "2025-04-01T18:35:08.309960Z",
     "iopub.status.busy": "2025-04-01T18:35:08.309583Z",
     "iopub.status.idle": "2025-04-01T18:35:08.316059Z",
     "shell.execute_reply": "2025-04-01T18:35:08.314989Z"
    },
    "papermill": {
     "duration": 0.017931,
     "end_time": "2025-04-01T18:35:08.317660",
     "exception": false,
     "start_time": "2025-04-01T18:35:08.299729",
     "status": "completed"
    },
    "tags": []
   },
   "outputs": [],
   "source": [
    "def compute_iou(box1, boxes):\n",
    "    \"\"\"\n",
    "    Compute IoU between a single box and a set of boxes.\n",
    "    box1: [x1, y1, x2, y2]\n",
    "    boxes: Nx4 numpy array of boxes\n",
    "    \"\"\"\n",
    "    x1 = np.maximum(box1[0], boxes[:, 0])\n",
    "    y1 = np.maximum(box1[1], boxes[:, 1])\n",
    "    x2 = np.minimum(box1[2], boxes[:, 2])\n",
    "    y2 = np.minimum(box1[3], boxes[:, 3])\n",
    "\n",
    "    inter_area = np.maximum(0, x2 - x1) * np.maximum(0, y2 - y1)\n",
    "    area1 = (box1[2] - box1[0]) * (box1[3] - box1[1])\n",
    "    area2 = (boxes[:, 2] - boxes[:, 0]) * (boxes[:, 3] - boxes[:, 1])\n",
    "\n",
    "    union_area = area1 + area2 - inter_area\n",
    "    iou = inter_area / (union_area + 1e-6)  # add small epsilon to avoid divide by zero\n",
    "    return iou"
   ]
  },
  {
   "cell_type": "code",
   "execution_count": 12,
   "id": "26e83b53",
   "metadata": {
    "execution": {
     "iopub.execute_input": "2025-04-01T18:35:08.337595Z",
     "iopub.status.busy": "2025-04-01T18:35:08.337207Z",
     "iopub.status.idle": "2025-04-01T18:35:08.343281Z",
     "shell.execute_reply": "2025-04-01T18:35:08.342303Z"
    },
    "papermill": {
     "duration": 0.0179,
     "end_time": "2025-04-01T18:35:08.344978",
     "exception": false,
     "start_time": "2025-04-01T18:35:08.327078",
     "status": "completed"
    },
    "tags": []
   },
   "outputs": [],
   "source": [
    "def apply_nms(boxes, scores, iou_threshold=0.5):\n",
    "    \"\"\"\n",
    "    Apply Non-Maximum Suppression.\n",
    "    boxes: list of [x1, y1, x2, y2]\n",
    "    scores: confidence scores\n",
    "    Returns: filtered indices to keep\n",
    "    \"\"\"\n",
    "    if len(boxes) == 0:\n",
    "        return []\n",
    "\n",
    "    boxes = np.array(boxes)\n",
    "    scores = np.array(scores)\n",
    "    indices = np.argsort(scores)[::-1]\n",
    "\n",
    "    keep = []\n",
    "    while len(indices) > 0:\n",
    "        current = indices[0]\n",
    "        keep.append(current)\n",
    "\n",
    "        if len(indices) == 1:\n",
    "            break\n",
    "\n",
    "        ious = compute_iou(boxes[current], boxes[indices[1:]])\n",
    "        indices = indices[1:][ious < iou_threshold]  # remove overlaps above threshold\n",
    "\n",
    "    return keep"
   ]
  },
  {
   "cell_type": "code",
   "execution_count": 13,
   "id": "669a3829",
   "metadata": {
    "execution": {
     "iopub.execute_input": "2025-04-01T18:35:08.364304Z",
     "iopub.status.busy": "2025-04-01T18:35:08.363950Z",
     "iopub.status.idle": "2025-04-01T18:35:08.368342Z",
     "shell.execute_reply": "2025-04-01T18:35:08.367048Z"
    },
    "papermill": {
     "duration": 0.016139,
     "end_time": "2025-04-01T18:35:08.370287",
     "exception": false,
     "start_time": "2025-04-01T18:35:08.354148",
     "status": "completed"
    },
    "tags": []
   },
   "outputs": [],
   "source": [
    "video_input_path = \"/kaggle/input/falling-bottle-test/clipped_test.mp4\"\n",
    "video_output_path = \"/kaggle/working/output_video3.mp4\""
   ]
  },
  {
   "cell_type": "code",
   "execution_count": 14,
   "id": "07a370c3",
   "metadata": {
    "execution": {
     "iopub.execute_input": "2025-04-01T18:35:08.389646Z",
     "iopub.status.busy": "2025-04-01T18:35:08.389269Z",
     "iopub.status.idle": "2025-04-01T18:35:08.540378Z",
     "shell.execute_reply": "2025-04-01T18:35:08.538881Z"
    },
    "papermill": {
     "duration": 0.163284,
     "end_time": "2025-04-01T18:35:08.542697",
     "exception": false,
     "start_time": "2025-04-01T18:35:08.379413",
     "status": "completed"
    },
    "tags": []
   },
   "outputs": [],
   "source": [
    "!rm -rf /kaggle/working/violations"
   ]
  },
  {
   "cell_type": "code",
   "execution_count": 15,
   "id": "bc4797c3",
   "metadata": {
    "execution": {
     "iopub.execute_input": "2025-04-01T18:35:08.562568Z",
     "iopub.status.busy": "2025-04-01T18:35:08.562204Z",
     "iopub.status.idle": "2025-04-01T18:46:50.813624Z",
     "shell.execute_reply": "2025-04-01T18:46:50.812625Z"
    },
    "papermill": {
     "duration": 702.272069,
     "end_time": "2025-04-01T18:46:50.824183",
     "exception": false,
     "start_time": "2025-04-01T18:35:08.552114",
     "status": "completed"
    },
    "tags": []
   },
   "outputs": [
    {
     "name": "stdout",
     "output_type": "stream",
     "text": [
      "ok\n",
      "Output video saved at /kaggle/working/output_video3.mp4\n"
     ]
    }
   ],
   "source": [
    "# Open the input video file\n",
    "cap = cv2.VideoCapture(video_input_path)\n",
    "\n",
    "# Setup the output video writer\n",
    "fourcc = cv2.VideoWriter_fourcc(*\"mp4v\")  # Define codec\n",
    "fps = int(cap.get(cv2.CAP_PROP_FPS))  # Get frames per second of the input video\n",
    "frame_width = int(cap.get(cv2.CAP_PROP_FRAME_WIDTH))  # Frame width\n",
    "frame_height = int(cap.get(cv2.CAP_PROP_FRAME_HEIGHT))  # Frame height\n",
    "out = cv2.VideoWriter(video_output_path, fourcc, fps, (frame_width, frame_height))  # Output video writer\n",
    "\n",
    "# Create directory to save violation frames\n",
    "violation_dir = \"violations\"\n",
    "os.makedirs(violation_dir, exist_ok=True)\n",
    "\n",
    "frame_count = 0  # Counter for frames processed\n",
    "\n",
    "oldx_center = 0\n",
    "oldy_center = 0\n",
    "# Process video frame by frame\n",
    "while cap.isOpened():\n",
    "    ret, frame = cap.read()\n",
    "    if not ret:\n",
    "        break  # Stop processing if video ends\n",
    "\n",
    "    frame_count += 1\n",
    "    frame_copy = frame.copy()\n",
    "\n",
    "    # Perform model predictions on the frame\n",
    "    custom_results = custom_model.predict(source=frame, verbose=False)[0]\n",
    "    \n",
    "    # Initialize containers for detected objects\n",
    "    fallen_bottle_boxes = []\n",
    "    fallen_bottle_scores = []\n",
    "\n",
    "    # Parse custom model results\n",
    "    for result in custom_results.boxes.data.tolist():\n",
    "        x1, y1, x2, y2, conf, cls = result\n",
    "        label = custom_results.names[int(cls)]\n",
    "        if conf >= 0.7:\n",
    "            if label == \"fallen bottle\":\n",
    "                fallen_bottle_boxes.append([x1, y1, x2, y2])\n",
    "                fallen_bottle_scores.append(conf)\n",
    "    from scipy.spatial import distance\n",
    "    import math\n",
    "    def euclidean_distance(point1, point2):\n",
    "        return math.sqrt(sum((a - b) ** 2 for a, b in zip(point1, point2)))\n",
    "    # Apply Non-Maximum Suppression (NMS)\n",
    "    fallen_bottle_indices = apply_nms(fallen_bottle_boxes, fallen_bottle_scores, iou_threshold=0.5)\n",
    "    fallen_bottle_boxes = [(*fallen_bottle_boxes[i], fallen_bottle_scores[i]) for i in fallen_bottle_indices]\n",
    "    \n",
    "    violation_counter = 0\n",
    "    for x1, y1, x2, y2, conf in fallen_bottle_boxes:\n",
    "        label = \"fallen bottle\"\n",
    "        color = (0, 255, 0)\n",
    "        cv2.rectangle(frame, (int(x1), int(y1)), (int(x2), int(y2)), color, 2)\n",
    "        cv2.putText(frame, label, (int(x1), int(y1) - 10), cv2.FONT_HERSHEY_SIMPLEX, 0.6, color, 2)\n",
    "        violation_counter += 1\n",
    "        #if violation_counter >= 3:\n",
    "        newx_center = x2+x1 / 2\n",
    "        newy_center = y2+y1 / 2\n",
    "        newcenter = (newx_center, newy_center)\n",
    "        oldcenter = (oldx_center, oldy_center)\n",
    "        #print(\"old center: \" + str(oldcenter))\n",
    "        dist = euclidean_distance(newcenter, oldcenter)\n",
    "        #print(\"dist \" + str(dist))\n",
    "        if dist > 15:\n",
    "            filename = os.path.join(violation_dir, f\"violation_fallen_bottle_frame{frame_count}.jpg\")\n",
    "            cv2.imwrite(filename, frame)\n",
    "            oldx_center = newx_center\n",
    "            oldy_center = newy_center\n",
    "            print(\"ok\")\n",
    "    # Write processed frame to output video\n",
    "    out.write(frame)\n",
    "# Release resources\n",
    "cap.release()\n",
    "out.release()\n",
    "\n",
    "# Print completion messages\n",
    "print(f\"Output video saved at {video_output_path}\")"
   ]
  },
  {
   "cell_type": "code",
   "execution_count": 16,
   "id": "07ff42d7",
   "metadata": {
    "execution": {
     "iopub.execute_input": "2025-04-01T18:46:50.843780Z",
     "iopub.status.busy": "2025-04-01T18:46:50.843428Z",
     "iopub.status.idle": "2025-04-01T18:46:50.909592Z",
     "shell.execute_reply": "2025-04-01T18:46:50.908626Z"
    },
    "papermill": {
     "duration": 0.078219,
     "end_time": "2025-04-01T18:46:50.911508",
     "exception": false,
     "start_time": "2025-04-01T18:46:50.833289",
     "status": "completed"
    },
    "tags": []
   },
   "outputs": [],
   "source": [
    "# Load credentials\n",
    "SERVICE_ACCOUNT_FILE = '/kaggle/input/service-account/wide-planet.json'\n",
    "SCOPES = ['https://www.googleapis.com/auth/drive']\n",
    "credentials = service_account.Credentials.from_service_account_file(SERVICE_ACCOUNT_FILE, scopes=SCOPES)"
   ]
  },
  {
   "cell_type": "code",
   "execution_count": 17,
   "id": "47058263",
   "metadata": {
    "execution": {
     "iopub.execute_input": "2025-04-01T18:46:50.931687Z",
     "iopub.status.busy": "2025-04-01T18:46:50.931347Z",
     "iopub.status.idle": "2025-04-01T18:46:51.340104Z",
     "shell.execute_reply": "2025-04-01T18:46:51.338824Z"
    },
    "papermill": {
     "duration": 0.420915,
     "end_time": "2025-04-01T18:46:51.341932",
     "exception": false,
     "start_time": "2025-04-01T18:46:50.921017",
     "status": "completed"
    },
    "tags": []
   },
   "outputs": [
    {
     "name": "stdout",
     "output_type": "stream",
     "text": [
      "✅ Google Drive folder created with ID: 1BgygIGq-7WNu09aWihZZEcbs9YIBwFcT\n",
      "📁 folder_id saved to folder_id.txt\n"
     ]
    }
   ],
   "source": [
    "# Build Drive API client\n",
    "drive_service = build('drive', 'v3', credentials=credentials)\n",
    "\n",
    "# Create folder on Google Drive\n",
    "folder_metadata = {\n",
    "    'name': 'violations',\n",
    "    'mimeType': 'application/vnd.google-apps.folder'\n",
    "}\n",
    "folder = drive_service.files().create(body=folder_metadata, fields='id').execute()\n",
    "folder_id = folder.get('id')\n",
    "print(f\"✅ Google Drive folder created with ID: {folder_id}\")\n",
    "# Save folder ID to a file in Kaggle environment\n",
    "with open(\"/kaggle/working/folder_id.txt\", \"w\") as f:\n",
    "    f.write(folder_id)\n",
    "print(\"📁 folder_id saved to folder_id.txt\")"
   ]
  },
  {
   "cell_type": "code",
   "execution_count": 18,
   "id": "3c9fe25b",
   "metadata": {
    "execution": {
     "iopub.execute_input": "2025-04-01T18:46:51.362013Z",
     "iopub.status.busy": "2025-04-01T18:46:51.361594Z",
     "iopub.status.idle": "2025-04-01T18:46:52.566859Z",
     "shell.execute_reply": "2025-04-01T18:46:52.565551Z"
    },
    "papermill": {
     "duration": 1.217472,
     "end_time": "2025-04-01T18:46:52.568969",
     "exception": false,
     "start_time": "2025-04-01T18:46:51.351497",
     "status": "completed"
    },
    "tags": []
   },
   "outputs": [
    {
     "name": "stdout",
     "output_type": "stream",
     "text": [
      "📤 folder-id.txt uploaded to Google Drive.\n"
     ]
    }
   ],
   "source": [
    "# Upload folder-id.txt to your Google Drive\n",
    "file_metadata = {\n",
    "    'name': 'folder-id.txt',\n",
    "    'parents': [folder_id]  \n",
    "}\n",
    "media = MediaFileUpload('/kaggle/working/folder_id.txt', resumable=True)\n",
    "drive_service.files().create(\n",
    "    body=file_metadata,\n",
    "    media_body=media,\n",
    "    fields='id'\n",
    ").execute()\n",
    "\n",
    "print(\"📤 folder-id.txt uploaded to Google Drive.\")"
   ]
  },
  {
   "cell_type": "code",
   "execution_count": 19,
   "id": "440cd373",
   "metadata": {
    "execution": {
     "iopub.execute_input": "2025-04-01T18:46:52.590627Z",
     "iopub.status.busy": "2025-04-01T18:46:52.590282Z",
     "iopub.status.idle": "2025-04-01T18:46:54.220427Z",
     "shell.execute_reply": "2025-04-01T18:46:54.219378Z"
    },
    "papermill": {
     "duration": 1.642221,
     "end_time": "2025-04-01T18:46:54.222383",
     "exception": false,
     "start_time": "2025-04-01T18:46:52.580162",
     "status": "completed"
    },
    "tags": []
   },
   "outputs": [
    {
     "name": "stdout",
     "output_type": "stream",
     "text": [
      "✅ Uploaded: violation_fallen_bottle_frame119.jpg\n"
     ]
    }
   ],
   "source": [
    "# Upload files from local violations folder\n",
    "violation_dir = '/kaggle/working/violations'\n",
    "for file_name in os.listdir(violation_dir):\n",
    "    file_path = os.path.join(violation_dir, file_name)\n",
    "    file_metadata = {'name': file_name, 'parents': [folder_id]}\n",
    "    media = MediaFileUpload(file_path, resumable=True)\n",
    "    uploaded_file = drive_service.files().create(body=file_metadata, media_body=media, fields='id').execute()\n",
    "    print(f\"✅ Uploaded: {file_name}\")"
   ]
  },
  {
   "cell_type": "code",
   "execution_count": 20,
   "id": "bad2384a",
   "metadata": {
    "execution": {
     "iopub.execute_input": "2025-04-01T18:46:54.242635Z",
     "iopub.status.busy": "2025-04-01T18:46:54.242288Z",
     "iopub.status.idle": "2025-04-01T18:46:55.721736Z",
     "shell.execute_reply": "2025-04-01T18:46:55.720131Z"
    },
    "papermill": {
     "duration": 1.491625,
     "end_time": "2025-04-01T18:46:55.723492",
     "exception": false,
     "start_time": "2025-04-01T18:46:54.231867",
     "status": "completed"
    },
    "tags": []
   },
   "outputs": [
    {
     "name": "stdout",
     "output_type": "stream",
     "text": [
      "📧 Folder shared with: zizo.tarek.ghonim@gmail.com\n"
     ]
    }
   ],
   "source": [
    "# 👇 SHARE THE FOLDER WITH YOUR PERSONAL GMAIL\n",
    "your_gmail = \"zizo.tarek.ghonim@gmail.com\"  # <<< Replace with your personal Gmail\n",
    "\n",
    "permission = {\n",
    "    'type': 'user',\n",
    "    'role': 'writer',  # or 'reader' if you only want view access\n",
    "    'emailAddress': your_gmail\n",
    "}\n",
    "\n",
    "drive_service.permissions().create(\n",
    "    fileId=folder_id,\n",
    "    body=permission,\n",
    "    fields='id',\n",
    "    sendNotificationEmail=True  # You’ll get an email invitation\n",
    ").execute()\n",
    "\n",
    "print(f\"📧 Folder shared with: {your_gmail}\")\n"
   ]
  }
 ],
 "metadata": {
  "kaggle": {
   "accelerator": "none",
   "dataSources": [
    {
     "datasetId": 6947015,
     "sourceId": 11137688,
     "sourceType": "datasetVersion"
    },
    {
     "datasetId": 6947058,
     "sourceId": 11137743,
     "sourceType": "datasetVersion"
    },
    {
     "datasetId": 6947249,
     "sourceId": 11137977,
     "sourceType": "datasetVersion"
    }
   ],
   "dockerImageVersionId": 30918,
   "isGpuEnabled": false,
   "isInternetEnabled": true,
   "language": "python",
   "sourceType": "notebook"
  },
  "kernelspec": {
   "display_name": "Python 3",
   "language": "python",
   "name": "python3"
  },
  "language_info": {
   "codemirror_mode": {
    "name": "ipython",
    "version": 3
   },
   "file_extension": ".py",
   "mimetype": "text/x-python",
   "name": "python",
   "nbconvert_exporter": "python",
   "pygments_lexer": "ipython3",
   "version": "3.10.12"
  },
  "papermill": {
   "default_parameters": {},
   "duration": 782.43132,
   "end_time": "2025-04-01T18:46:58.806268",
   "environment_variables": {},
   "exception": null,
   "input_path": "__notebook__.ipynb",
   "output_path": "__notebook__.ipynb",
   "parameters": {},
   "start_time": "2025-04-01T18:33:56.374948",
   "version": "2.6.0"
  }
 },
 "nbformat": 4,
 "nbformat_minor": 5
}
